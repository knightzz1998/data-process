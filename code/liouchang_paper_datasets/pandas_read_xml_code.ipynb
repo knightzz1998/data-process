{
 "cells": [
  {
   "cell_type": "markdown",
   "metadata": {
    "collapsed": true,
    "pycharm": {
     "name": "#%% md\n"
    }
   },
   "source": [
    "### 测试读取XML文件"
   ]
  },
  {
   "cell_type": "code",
   "execution_count": 1,
   "outputs": [],
   "source": [],
   "metadata": {
    "collapsed": false,
    "pycharm": {
     "name": "#%%\n"
    }
   }
  },
  {
   "cell_type": "code",
   "execution_count": 2,
   "outputs": [
    {
     "name": "stdout",
     "output_type": "stream",
     "text": [
      "     A    B    C\n",
      "X  1.3  1.4  5.2\n",
      "Y  2.6  1.4  4.6\n",
      "Z  2.1  5.6  4.6\n"
     ]
    }
   ],
   "source": [
    "import xml.etree.ElementTree as ET\n",
    "\n",
    "import pandas as pd\n",
    "\n",
    "df = pd.DataFrame([[1.3, 1.4, 5.2],\n",
    "                   [2.6, 1.4, 4.6],\n",
    "                   [2.1, 5.6, 4.6]],\n",
    "                  columns=['A', 'B', 'C'],\n",
    "                  index=['X', 'Y', 'Z'])\n",
    "print(df)"
   ],
   "metadata": {
    "collapsed": false,
    "pycharm": {
     "name": "#%%\n"
    }
   }
  },
  {
   "cell_type": "code",
   "execution_count": 4,
   "outputs": [],
   "source": [
    "header = df.columns\n",
    "\n",
    "# 设置根目标签\n",
    "root = ET.Element('root')  # Root element\n",
    "\n",
    "# 遍历添加子标签\n",
    "for column in df.columns:\n",
    "\n",
    "    entry = ET.SubElement(root, column)  # Adding element\n",
    "    for row in df.index:\n",
    "        schild = row\n",
    "        child = ET.SubElement(entry, schild)  # Adding sub-element\n",
    "        child.text = str(df[column][schild])\n",
    "\n",
    "xml_data = ET.tostring(root)  # binary string\n",
    "with open('coordinates.xml', 'w') as f:  # Write in file as utf-8\n",
    "    f.write(xml_data.decode('utf-8'))"
   ],
   "metadata": {
    "collapsed": false,
    "pycharm": {
     "name": "#%%\n"
    }
   }
  },
  {
   "cell_type": "code",
   "execution_count": 52,
   "outputs": [
    {
     "name": "stdout",
     "output_type": "stream",
     "text": [
      "         text aspectTerm\n",
      "0  i love you         12\n",
      "1     i 2 you         12 \n",
      "\n",
      "<?xml version='1.0' encoding='utf-8'?>\n",
      "<sentences>\n",
      "  <sentence index=\"0\" aspectTerm=\"12\"/>\n",
      "  <sentence index=\"1\" aspectTerm=\"12\"/>\n",
      "</sentences>\n"
     ]
    }
   ],
   "source": [
    "\n",
    "df = pd.DataFrame([\n",
    "    {'text': \"i love you\", \"aspectTerm\": \"12\"},\n",
    "    {'text': \"i 2 you\", \"aspectTerm\": \"12\"}\n",
    "    ])\n",
    "print(df, \"\\n\")\n",
    "print(df.to_xml(root_name=\"sentences\", row_name=\"sentence\", pretty_print=True, attr_cols=[\"aspectTerm\"]))"
   ],
   "metadata": {
    "collapsed": false,
    "pycharm": {
     "name": "#%%\n"
    }
   }
  },
  {
   "cell_type": "code",
   "execution_count": 73,
   "outputs": [
    {
     "name": "stdout",
     "output_type": "stream",
     "text": [
      "<?xml version='1.0' encoding='utf-8'?>\n",
      "<sentences>\n",
      "  <sentence>\n",
      "    <shape>square</shape>\n",
      "    <degrees>360</degrees>\n",
      "    <sides>4</sides>\n",
      "    <set>{'aaa': 1}</set>\n",
      "    <aspectTerms>aspectTerm</aspectTerms>\n",
      "  </sentence>\n",
      "  <sentence>\n",
      "    <shape>circle</shape>\n",
      "    <degrees>360</degrees>\n",
      "    <sides>2</sides>\n",
      "    <set>{'aaa': 1}</set>\n",
      "    <aspectTerms>aspectTerm</aspectTerms>\n",
      "  </sentence>\n",
      "  <sentence>\n",
      "    <shape>triangle</shape>\n",
      "    <degrees>180</degrees>\n",
      "    <sides>3</sides>\n",
      "    <set>{'aaa': 1}</set>\n",
      "    <aspectTerms>aspectTerm</aspectTerms>\n",
      "  </sentence>\n",
      "</sentences>\n"
     ]
    }
   ],
   "source": [
    "data = {'shape': ['square', 'circle', 'triangle'],\n",
    "        'degrees': [360, 360, 180],\n",
    "        'sides': [4, 2, 3],\n",
    "        'set': [{'aaa':1}, {'aaa':1}, {'aaa':1}],\n",
    "        'aspectTerms': ['aspectTerm', 'aspectTerm', 'aspectTerm']\n",
    "        }\n",
    "\n",
    "df = pd.DataFrame(data).set_index(\"shape\") # reset_index(drop=True) 删除索引\n",
    "print(df.to_xml(pretty_print=True, root_name=\"sentences\", row_name=\"sentence\"))"
   ],
   "metadata": {
    "collapsed": false,
    "pycharm": {
     "name": "#%%\n"
    }
   }
  },
  {
   "cell_type": "code",
   "execution_count": null,
   "outputs": [],
   "source": [],
   "metadata": {
    "collapsed": false,
    "pycharm": {
     "name": "#%%\n"
    }
   }
  }
 ],
 "metadata": {
  "kernelspec": {
   "display_name": "Python 3",
   "language": "python",
   "name": "python3"
  },
  "language_info": {
   "codemirror_mode": {
    "name": "ipython",
    "version": 2
   },
   "file_extension": ".py",
   "mimetype": "text/x-python",
   "name": "python",
   "nbconvert_exporter": "python",
   "pygments_lexer": "ipython2",
   "version": "2.7.6"
  }
 },
 "nbformat": 4,
 "nbformat_minor": 0
}