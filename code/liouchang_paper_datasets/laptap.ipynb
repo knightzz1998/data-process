{
 "cells": [
  {
   "cell_type": "code",
   "execution_count": 16,
   "metadata": {
    "collapsed": true
   },
   "outputs": [],
   "source": [
    "import pandas as pd\n",
    "import xml.etree.ElementTree as ET"
   ]
  },
  {
   "cell_type": "code",
   "execution_count": 17,
   "outputs": [
    {
     "data": {
      "text/plain": "                                                      10180  \\\ncontra                                                False   \nfrom                                                     84   \nid                                                   1018_0   \nmulti                                                 False   \npolarity                                           positive   \nsentence  I had in the past a Dell laptop and they sent ...   \nterm                                      repair technician   \nto                                                      101   \n\n                                                      10210  \\\ncontra                                                False   \nfrom                                                     82   \nid                                                   1021_0   \nmulti                                                  True   \npolarity                                           negative   \nsentence  This computer that I have has had issues with ...   \nterm                                     keyboard functions   \nto                                                      100   \n\n                                                      10211  \\\ncontra                                                False   \nfrom                                                     50   \nid                                                   1021_1   \nmulti                                                  True   \npolarity                                           negative   \nsentence  This computer that I have has had issues with ...   \nterm                                               keyboard   \nto                                                       58   \n\n                                               10380  \\\ncontra                                          True   \nfrom                                              37   \nid                                            1038_0   \nmulti                                           True   \npolarity                                    negative   \nsentence  Looks nice, but has a horribly cheap feel.   \nterm                                            feel   \nto                                                41   \n\n                                               10381  \\\ncontra                                          True   \nfrom                                               0   \nid                                            1038_1   \nmulti                                           True   \npolarity                                    positive   \nsentence  Looks nice, but has a horribly cheap feel.   \nterm                                           Looks   \nto                                                 5   \n\n                                             10390  \\\ncontra                                       False   \nfrom                                             0   \nid                                          1039_0   \nmulti                                        False   \npolarity                                  negative   \nsentence  Keyboard is plastic and spongey feeling.   \nterm                                      Keyboard   \nto                                               8   \n\n                                                      10490  \\\ncontra                                                False   \nfrom                                                     20   \nid                                                   1049_0   \nmulti                                                 False   \npolarity                                           negative   \nsentence  Can't close the 2nd HDD bay since there are br...   \nterm                                                HDD bay   \nto                                                       27   \n\n                                                      10780  \\\ncontra                                                False   \nfrom                                                      4   \nid                                                   1078_0   \nmulti                                                 False   \npolarity                                           positive   \nsentence  The screen is nice, side view angles are prett...   \nterm                                                 screen   \nto                                                       10   \n\n                                                      11010  \\\ncontra                                                 True   \nfrom                                                     39   \nid                                                   1101_0   \nmulti                                                  True   \npolarity                                           negative   \nsentence  Strengths:Well-shaped Weaknesses:A bad videocard!   \nterm                                              videocard   \nto                                                       48   \n\n                                                      11011  ...  \\\ncontra                                                 True  ...   \nfrom                                                     15  ...   \nid                                                   1101_1  ...   \nmulti                                                  True  ...   \npolarity                                           positive  ...   \nsentence  Strengths:Well-shaped Weaknesses:A bad videocard!  ...   \nterm                                                 shaped  ...   \nto                                                       21  ...   \n\n                                                      7750   \\\ncontra                                                False   \nfrom                                                     56   \nid                                                    775_0   \nmulti                                                 False   \npolarity                                           negative   \nsentence  Unless you want to be inconvenienced with a no...   \nterm                                           power supply   \nto                                                       68   \n\n                                                      7780   \\\ncontra                                                 True   \nfrom                                                     98   \nid                                                    778_0   \nmulti                                                  True   \npolarity                                           negative   \nsentence  I spoke with a service rep at Micro Center and...   \nterm                                          power adapter   \nto                                                      111   \n\n                                                      7781   \\\ncontra                                                 True   \nfrom                                                     15   \nid                                                    778_1   \nmulti                                                  True   \npolarity                                            neutral   \nsentence  I spoke with a service rep at Micro Center and...   \nterm                                            service rep   \nto                                                       26   \n\n                                                      8080   \\\ncontra                                                False   \nfrom                                                     70   \nid                                                    808_0   \nmulti                                                 False   \npolarity                                            neutral   \nsentence  3 weeks went by and the computer keeps crashin...   \nterm                                           applications   \nto                                                       82   \n\n                                                      8110   \\\ncontra                                                False   \nfrom                                                     21   \nid                                                    811_0   \nmulti                                                 False   \npolarity                                           negative   \nsentence  COMPUTER HAS BEEN AT SERVICE FACILITY MORE THA...   \nterm                                       SERVICE FACILITY   \nto                                                       37   \n\n                                                      8330   \\\ncontra                                                False   \nfrom                                                     17   \nid                                                    833_0   \nmulti                                                 False   \npolarity                                           negative   \nsentence    Worse, for the price I could get a *netbook*...   \nterm                                                  price   \nto                                                       22   \n\n                                                      8450   \\\ncontra                                                False   \nfrom                                                     94   \nid                                                    845_0   \nmulti                                                 False   \npolarity                                            neutral   \nsentence  Long story, but after many calls to various  o...   \nterm                                                  depot   \nto                                                       99   \n\n                                                      8480   \\\ncontra                                                False   \nfrom                                                    130   \nid                                                    848_0   \nmulti                                                 False   \npolarity                                           positive   \nsentence  How Toshiba handles the repair seems to vary, ...   \nterm                                                 repair   \nto                                                      136   \n\n                                                      9050   \\\ncontra                                                False   \nfrom                                                     24   \nid                                                    905_0   \nmulti                                                 False   \npolarity                                           negative   \nsentence  I had to pay $100 for a universal charger for ...   \nterm                                      universal charger   \nto                                                       41   \n\n                                                      9080   \ncontra                                                False  \nfrom                                                     93  \nid                                                    908_0  \nmulti                                                 False  \npolarity                                           negative  \nsentence  Also, my sister got the exact same laptop (sin...  \nterm                                                 screen  \nto                                                       99  \n\n[8 rows x 150 columns]",
      "text/html": "<div>\n<style scoped>\n    .dataframe tbody tr th:only-of-type {\n        vertical-align: middle;\n    }\n\n    .dataframe tbody tr th {\n        vertical-align: top;\n    }\n\n    .dataframe thead th {\n        text-align: right;\n    }\n</style>\n<table border=\"1\" class=\"dataframe\">\n  <thead>\n    <tr style=\"text-align: right;\">\n      <th></th>\n      <th>10180</th>\n      <th>10210</th>\n      <th>10211</th>\n      <th>10380</th>\n      <th>10381</th>\n      <th>10390</th>\n      <th>10490</th>\n      <th>10780</th>\n      <th>11010</th>\n      <th>11011</th>\n      <th>...</th>\n      <th>7750</th>\n      <th>7780</th>\n      <th>7781</th>\n      <th>8080</th>\n      <th>8110</th>\n      <th>8330</th>\n      <th>8450</th>\n      <th>8480</th>\n      <th>9050</th>\n      <th>9080</th>\n    </tr>\n  </thead>\n  <tbody>\n    <tr>\n      <th>contra</th>\n      <td>False</td>\n      <td>False</td>\n      <td>False</td>\n      <td>True</td>\n      <td>True</td>\n      <td>False</td>\n      <td>False</td>\n      <td>False</td>\n      <td>True</td>\n      <td>True</td>\n      <td>...</td>\n      <td>False</td>\n      <td>True</td>\n      <td>True</td>\n      <td>False</td>\n      <td>False</td>\n      <td>False</td>\n      <td>False</td>\n      <td>False</td>\n      <td>False</td>\n      <td>False</td>\n    </tr>\n    <tr>\n      <th>from</th>\n      <td>84</td>\n      <td>82</td>\n      <td>50</td>\n      <td>37</td>\n      <td>0</td>\n      <td>0</td>\n      <td>20</td>\n      <td>4</td>\n      <td>39</td>\n      <td>15</td>\n      <td>...</td>\n      <td>56</td>\n      <td>98</td>\n      <td>15</td>\n      <td>70</td>\n      <td>21</td>\n      <td>17</td>\n      <td>94</td>\n      <td>130</td>\n      <td>24</td>\n      <td>93</td>\n    </tr>\n    <tr>\n      <th>id</th>\n      <td>1018_0</td>\n      <td>1021_0</td>\n      <td>1021_1</td>\n      <td>1038_0</td>\n      <td>1038_1</td>\n      <td>1039_0</td>\n      <td>1049_0</td>\n      <td>1078_0</td>\n      <td>1101_0</td>\n      <td>1101_1</td>\n      <td>...</td>\n      <td>775_0</td>\n      <td>778_0</td>\n      <td>778_1</td>\n      <td>808_0</td>\n      <td>811_0</td>\n      <td>833_0</td>\n      <td>845_0</td>\n      <td>848_0</td>\n      <td>905_0</td>\n      <td>908_0</td>\n    </tr>\n    <tr>\n      <th>multi</th>\n      <td>False</td>\n      <td>True</td>\n      <td>True</td>\n      <td>True</td>\n      <td>True</td>\n      <td>False</td>\n      <td>False</td>\n      <td>False</td>\n      <td>True</td>\n      <td>True</td>\n      <td>...</td>\n      <td>False</td>\n      <td>True</td>\n      <td>True</td>\n      <td>False</td>\n      <td>False</td>\n      <td>False</td>\n      <td>False</td>\n      <td>False</td>\n      <td>False</td>\n      <td>False</td>\n    </tr>\n    <tr>\n      <th>polarity</th>\n      <td>positive</td>\n      <td>negative</td>\n      <td>negative</td>\n      <td>negative</td>\n      <td>positive</td>\n      <td>negative</td>\n      <td>negative</td>\n      <td>positive</td>\n      <td>negative</td>\n      <td>positive</td>\n      <td>...</td>\n      <td>negative</td>\n      <td>negative</td>\n      <td>neutral</td>\n      <td>neutral</td>\n      <td>negative</td>\n      <td>negative</td>\n      <td>neutral</td>\n      <td>positive</td>\n      <td>negative</td>\n      <td>negative</td>\n    </tr>\n    <tr>\n      <th>sentence</th>\n      <td>I had in the past a Dell laptop and they sent ...</td>\n      <td>This computer that I have has had issues with ...</td>\n      <td>This computer that I have has had issues with ...</td>\n      <td>Looks nice, but has a horribly cheap feel.</td>\n      <td>Looks nice, but has a horribly cheap feel.</td>\n      <td>Keyboard is plastic and spongey feeling.</td>\n      <td>Can't close the 2nd HDD bay since there are br...</td>\n      <td>The screen is nice, side view angles are prett...</td>\n      <td>Strengths:Well-shaped Weaknesses:A bad videocard!</td>\n      <td>Strengths:Well-shaped Weaknesses:A bad videocard!</td>\n      <td>...</td>\n      <td>Unless you want to be inconvenienced with a no...</td>\n      <td>I spoke with a service rep at Micro Center and...</td>\n      <td>I spoke with a service rep at Micro Center and...</td>\n      <td>3 weeks went by and the computer keeps crashin...</td>\n      <td>COMPUTER HAS BEEN AT SERVICE FACILITY MORE THA...</td>\n      <td>Worse, for the price I could get a *netbook*...</td>\n      <td>Long story, but after many calls to various  o...</td>\n      <td>How Toshiba handles the repair seems to vary, ...</td>\n      <td>I had to pay $100 for a universal charger for ...</td>\n      <td>Also, my sister got the exact same laptop (sin...</td>\n    </tr>\n    <tr>\n      <th>term</th>\n      <td>repair technician</td>\n      <td>keyboard functions</td>\n      <td>keyboard</td>\n      <td>feel</td>\n      <td>Looks</td>\n      <td>Keyboard</td>\n      <td>HDD bay</td>\n      <td>screen</td>\n      <td>videocard</td>\n      <td>shaped</td>\n      <td>...</td>\n      <td>power supply</td>\n      <td>power adapter</td>\n      <td>service rep</td>\n      <td>applications</td>\n      <td>SERVICE FACILITY</td>\n      <td>price</td>\n      <td>depot</td>\n      <td>repair</td>\n      <td>universal charger</td>\n      <td>screen</td>\n    </tr>\n    <tr>\n      <th>to</th>\n      <td>101</td>\n      <td>100</td>\n      <td>58</td>\n      <td>41</td>\n      <td>5</td>\n      <td>8</td>\n      <td>27</td>\n      <td>10</td>\n      <td>48</td>\n      <td>21</td>\n      <td>...</td>\n      <td>68</td>\n      <td>111</td>\n      <td>26</td>\n      <td>82</td>\n      <td>37</td>\n      <td>22</td>\n      <td>99</td>\n      <td>136</td>\n      <td>41</td>\n      <td>99</td>\n    </tr>\n  </tbody>\n</table>\n<p>8 rows × 150 columns</p>\n</div>"
     },
     "execution_count": 17,
     "metadata": {},
     "output_type": "execute_result"
    }
   ],
   "source": [
    "laptop_path = \"../../datasets/laptop/dev.json\"\n",
    "\n",
    "laptop_data = pd.read_json(laptop_path)\n",
    "laptop_data"
   ],
   "metadata": {
    "collapsed": false,
    "pycharm": {
     "name": "#%%\n"
    }
   }
  },
  {
   "cell_type": "code",
   "execution_count": 18,
   "outputs": [
    {
     "data": {
      "text/plain": "Int64Index([10180, 10210, 10211, 10380, 10381, 10390, 10490, 10780, 11010,\n            11011,\n            ...\n             7750,  7780,  7781,  8080,  8110,  8330,  8450,  8480,  9050,\n             9080],\n           dtype='int64', length=150)"
     },
     "execution_count": 18,
     "metadata": {},
     "output_type": "execute_result"
    }
   ],
   "source": [
    "laptop_data.columns"
   ],
   "metadata": {
    "collapsed": false,
    "pycharm": {
     "name": "#%%\n"
    }
   }
  },
  {
   "cell_type": "code",
   "execution_count": 22,
   "outputs": [
    {
     "name": "stdout",
     "output_type": "stream",
     "text": [
      "Index(['contra', 'from', 'id', 'multi', 'polarity', 'sentence', 'term', 'to'], dtype='object')\n"
     ]
    }
   ],
   "source": [
    "columns = laptop_data.columns\n",
    "index = laptop_data.index\n",
    "\n",
    "tags = ['from', 'polarity', 'sentence', 'term', 'to']\n",
    "\n",
    "print(index)"
   ],
   "metadata": {
    "collapsed": false,
    "pycharm": {
     "name": "#%%\n"
    }
   }
  },
  {
   "cell_type": "code",
   "execution_count": 29,
   "outputs": [],
   "source": [
    "# 设置根目录\n",
    "root = ET.Element('sentences')\n",
    "\n",
    "for column in columns:\n",
    "    sentence = ET.SubElement(root, \"sentence\")\n",
    "    text = ET.SubElement(sentence, 'text')\n",
    "    text.text = laptop_data[column]['sentence']\n",
    "\n",
    "    aspectTerms = ET.SubElement(sentence, 'aspectTerms')\n",
    "    aspectTerm = ET.SubElement(aspectTerms, 'aspectTerm')\n",
    "\n",
    "    aspectTerm.attrib = {\n",
    "        'from': str(laptop_data[column]['from']),\n",
    "        'to': str(laptop_data[column]['to']),\n",
    "        'polarity': str(laptop_data[column]['polarity']),\n",
    "        'term': str(laptop_data[column]['term'])\n",
    "    }\n",
    "\n",
    "xml_data = ET.tostring(root)"
   ],
   "metadata": {
    "collapsed": false,
    "pycharm": {
     "name": "#%%\n"
    }
   }
  },
  {
   "cell_type": "code",
   "execution_count": 32,
   "outputs": [],
   "source": [
    "with open('coordinates.xml', 'w') as f:  # Write in file as utf-8\n",
    "    f.write(xml_data.decode('utf-8'))"
   ],
   "metadata": {
    "collapsed": false,
    "pycharm": {
     "name": "#%%\n"
    }
   }
  },
  {
   "cell_type": "code",
   "execution_count": null,
   "outputs": [],
   "source": [],
   "metadata": {
    "collapsed": false,
    "pycharm": {
     "name": "#%%\n"
    }
   }
  }
 ],
 "metadata": {
  "kernelspec": {
   "display_name": "Python 3",
   "language": "python",
   "name": "python3"
  },
  "language_info": {
   "codemirror_mode": {
    "name": "ipython",
    "version": 2
   },
   "file_extension": ".py",
   "mimetype": "text/x-python",
   "name": "python",
   "nbconvert_exporter": "python",
   "pygments_lexer": "ipython2",
   "version": "2.7.6"
  }
 },
 "nbformat": 4,
 "nbformat_minor": 0
}